{
 "cells": [
  {
   "cell_type": "code",
   "execution_count": 1,
   "metadata": {},
   "outputs": [
    {
     "data": {
      "text/plain": [
       "true"
      ]
     },
     "execution_count": 1,
     "metadata": {},
     "output_type": "execute_result"
    }
   ],
   "source": [
    "require 'nokogiri'\n",
    "require 'httparty'"
   ]
  },
  {
   "cell_type": "code",
   "execution_count": 2,
   "metadata": {},
   "outputs": [
    {
     "data": {
      "text/plain": [
       "131416"
      ]
     },
     "execution_count": 2,
     "metadata": {},
     "output_type": "execute_result"
    }
   ],
   "source": [
    "page = Nokogiri::HTML(HTTParty.get('https://github.com/localhostdotdev?tab=repositories&q=&type=public&language='))\n",
    "page.to_html.size"
   ]
  },
  {
   "cell_type": "code",
   "execution_count": 3,
   "metadata": {},
   "outputs": [
    {
     "data": {
      "text/html": [
       "<a href=\"/localhostdotdev/notebooks\" itemprop=\"name codeRepository\">\n",
       "        notebooks</a><a href=\"/localhostdotdev/bug\" itemprop=\"name codeRepository\">\n",
       "        bug</a><a href=\"/localhostdotdev/website\" itemprop=\"name codeRepository\">\n",
       "        website</a><a href=\"/localhostdotdev/ruby-twitter\" itemprop=\"name codeRepository\">\n",
       "        ruby-twitter</a><a href=\"/localhostdotdev/example-.io-game\" itemprop=\"name codeRepository\">\n",
       "        example-.io-game</a><a href=\"/localhostdotdev/localhostdotdev.github.io\" itemprop=\"name codeRepository\">\n",
       "        localhostdotdev.github.io</a><a href=\"/localhostdotdev/real-rails-issues\" itemprop=\"name codeRepository\">\n",
       "        real-rails-issues</a><a href=\"/localhostdotdev/capybara-screenshot\" itemprop=\"name codeRepository\">\n",
       "        capybara-screenshot</a><a href=\"/localhostdotdev/paper_trail\" itemprop=\"name codeRepository\">\n",
       "        paper_trail</a><a href=\"/localhostdotdev/shoulda-context\" itemprop=\"name codeRepository\">\n",
       "        shoulda-context</a><a href=\"/localhostdotdev/delayed_cron_job\" itemprop=\"name codeRepository\">\n",
       "        delayed_cron_job</a><a href=\"/localhostdotdev/rails\" itemprop=\"name codeRepository\">\n",
       "        rails</a><a href=\"/localhostdotdev/plugin-ruby\" itemprop=\"name codeRepository\">\n",
       "        plugin-ruby</a><a href=\"/localhostdotdev/unidecoder\" itemprop=\"name codeRepository\">\n",
       "        unidecoder</a><a href=\"/localhostdotdev/hacker-news-undocumented\" itemprop=\"name codeRepository\">\n",
       "        hacker-news-undocumented</a><a href=\"/localhostdotdev/file-line\" itemprop=\"name codeRepository\">\n",
       "        file-line</a><a href=\"/localhostdotdev/delayed_job\" itemprop=\"name codeRepository\">\n",
       "        delayed_job</a><a href=\"/localhostdotdev/heroku-buildpack-libsodium\" itemprop=\"name codeRepository\">\n",
       "        heroku-buildpack-libsodium</a><a href=\"/localhostdotdev/bundler-stats\" itemprop=\"name codeRepository\">\n",
       "        bundler-stats</a><a href=\"/localhostdotdev/API\" itemprop=\"name codeRepository\">\n",
       "        API</a><a href=\"/localhostdotdev/minitest-rails\" itemprop=\"name codeRepository\">\n",
       "        minitest-rails</a><a href=\"/localhostdotdev/chromedriver-helper\" itemprop=\"name codeRepository\">\n",
       "        chromedriver-helper</a><a href=\"/localhostdotdev/sdoc\" itemprop=\"name codeRepository\">\n",
       "        sdoc</a><a href=\"/localhostdotdev/rails-docs-server\" itemprop=\"name codeRepository\">\n",
       "        rails-docs-server</a><a href=\"/localhostdotdev/discordrb\" itemprop=\"name codeRepository\">\n",
       "        discordrb</a><a href=\"/localhostdotdev/mitmengine\" itemprop=\"name codeRepository\">\n",
       "        mitmengine</a><a href=\"/localhostdotdev/rumouse\" itemprop=\"name codeRepository\">\n",
       "        rumouse</a><a href=\"/localhostdotdev/lobsters-postgresql\" itemprop=\"name codeRepository\">\n",
       "        lobsters-postgresql</a><a href=\"/localhostdotdev/jit\" itemprop=\"name codeRepository\">\n",
       "        jit</a><a href=\"/localhostdotdev/websocket-client-simple\" itemprop=\"name codeRepository\">\n",
       "        websocket-client-simple</a>"
      ],
      "text/plain": [
       "[#<Nokogiri::XML::Element:0x3feb919aa954 name=\"a\" attributes=[#<Nokogiri::XML::Attr:0x3feb919b0994 name=\"href\" value=\"/localhostdotdev/notebooks\">, #<Nokogiri::XML::Attr:0x3feb919b0980 name=\"itemprop\" value=\"name codeRepository\">] children=[#<Nokogiri::XML::Text:0x3feb919b0340 \"\\n        notebooks\">]>, #<Nokogiri::XML::Element:0x3feb919aa760 name=\"a\" attributes=[#<Nokogiri::XML::Attr:0x3feb919b0138 name=\"href\" value=\"/localhostdotdev/bug\">, #<Nokogiri::XML::Attr:0x3feb919b0124 name=\"itemprop\" value=\"name codeRepository\">] children=[#<Nokogiri::XML::Text:0x3feb919b9ae4 \"\\n        bug\">]>, #<Nokogiri::XML::Element:0x3feb919aa56c name=\"a\" attributes=[#<Nokogiri::XML::Attr:0x3feb919b98f0 name=\"href\" value=\"/localhostdotdev/website\">, #<Nokogiri::XML::Attr:0x3feb919b98dc name=\"itemprop\" value=\"name codeRepository\">] children=[#<Nokogiri::XML::Text:0x3feb919b92c4 \"\\n        website\">]>, #<Nokogiri::XML::Element:0x3feb919aa378 name=\"a\" attributes=[#<Nokogiri::XML::Attr:0x3feb919b90d0 name=\"href\" value=\"/localhostdotdev/ruby-twitter\">, #<Nokogiri::XML::Attr:0x3feb919b90bc name=\"itemprop\" value=\"name codeRepository\">] children=[#<Nokogiri::XML::Text:0x3feb919b8aa4 \"\\n        ruby-twitter\">]>, #<Nokogiri::XML::Element:0x3feb919aa184 name=\"a\" attributes=[#<Nokogiri::XML::Attr:0x3feb919b88b0 name=\"href\" value=\"/localhostdotdev/example-.io-game\">, #<Nokogiri::XML::Attr:0x3feb919b889c name=\"itemprop\" value=\"name codeRepository\">] children=[#<Nokogiri::XML::Text:0x3feb919b8284 \"\\n        example-.io-game\">]>, #<Nokogiri::XML::Element:0x3feb919b5f70 name=\"a\" attributes=[#<Nokogiri::XML::Attr:0x3feb919b8090 name=\"href\" value=\"/localhostdotdev/localhostdotdev.github.io\">, #<Nokogiri::XML::Attr:0x3feb919b807c name=\"itemprop\" value=\"name codeRepository\">] children=[#<Nokogiri::XML::Text:0x3feb919bda40 \"\\n        localhostdotdev.github.io\">]>, #<Nokogiri::XML::Element:0x3feb919b5d7c name=\"a\" attributes=[#<Nokogiri::XML::Attr:0x3feb919bd84c name=\"href\" value=\"/localhostdotdev/real-rails-issues\">, #<Nokogiri::XML::Attr:0x3feb919bd838 name=\"itemprop\" value=\"name codeRepository\">] children=[#<Nokogiri::XML::Text:0x3feb919bd220 \"\\n        real-rails-issues\">]>, #<Nokogiri::XML::Element:0x3feb919b5b88 name=\"a\" attributes=[#<Nokogiri::XML::Attr:0x3feb919bd02c name=\"href\" value=\"/localhostdotdev/capybara-screenshot\">, #<Nokogiri::XML::Attr:0x3feb919bd018 name=\"itemprop\" value=\"name codeRepository\">] children=[#<Nokogiri::XML::Text:0x3feb919bca00 \"\\n        capybara-screenshot\">]>, #<Nokogiri::XML::Element:0x3feb919b5994 name=\"a\" attributes=[#<Nokogiri::XML::Attr:0x3feb919bc80c name=\"href\" value=\"/localhostdotdev/paper_trail\">, #<Nokogiri::XML::Attr:0x3feb919bc7f8 name=\"itemprop\" value=\"name codeRepository\">] children=[#<Nokogiri::XML::Text:0x3feb919bc1e0 \"\\n        paper_trail\">]>, #<Nokogiri::XML::Element:0x3feb919b57a0 name=\"a\" attributes=[#<Nokogiri::XML::Attr:0x3feb919c1fb4 name=\"href\" value=\"/localhostdotdev/shoulda-context\">, #<Nokogiri::XML::Attr:0x3feb919c1fa0 name=\"itemprop\" value=\"name codeRepository\">] children=[#<Nokogiri::XML::Text:0x3feb919c1988 \"\\n        shoulda-context\">]>, #<Nokogiri::XML::Element:0x3feb919b55ac name=\"a\" attributes=[#<Nokogiri::XML::Attr:0x3feb919c1794 name=\"href\" value=\"/localhostdotdev/delayed_cron_job\">, #<Nokogiri::XML::Attr:0x3feb919c1780 name=\"itemprop\" value=\"name codeRepository\">] children=[#<Nokogiri::XML::Text:0x3feb919c1168 \"\\n        delayed_cron_job\">]>, #<Nokogiri::XML::Element:0x3feb919b53b8 name=\"a\" attributes=[#<Nokogiri::XML::Attr:0x3feb919c0f74 name=\"href\" value=\"/localhostdotdev/rails\">, #<Nokogiri::XML::Attr:0x3feb919c0f60 name=\"itemprop\" value=\"name codeRepository\">] children=[#<Nokogiri::XML::Text:0x3feb919c0948 \"\\n        rails\">]>, #<Nokogiri::XML::Element:0x3feb919b51c4 name=\"a\" attributes=[#<Nokogiri::XML::Attr:0x3feb919c0754 name=\"href\" value=\"/localhostdotdev/plugin-ruby\">, #<Nokogiri::XML::Attr:0x3feb919c0740 name=\"itemprop\" value=\"name codeRepository\">] children=[#<Nokogiri::XML::Text:0x3feb919c0128 \"\\n        plugin-ruby\">]>, #<Nokogiri::XML::Element:0x3feb919b4fd0 name=\"a\" attributes=[#<Nokogiri::XML::Attr:0x3feb919c5f10 name=\"href\" value=\"/localhostdotdev/unidecoder\">, #<Nokogiri::XML::Attr:0x3feb919c5efc name=\"itemprop\" value=\"name codeRepository\">] children=[#<Nokogiri::XML::Text:0x3feb919c58e4 \"\\n        unidecoder\">]>, #<Nokogiri::XML::Element:0x3feb919b4ddc name=\"a\" attributes=[#<Nokogiri::XML::Attr:0x3feb919c56f0 name=\"href\" value=\"/localhostdotdev/hacker-news-undocumented\">, #<Nokogiri::XML::Attr:0x3feb919c56dc name=\"itemprop\" value=\"name codeRepository\">] children=[#<Nokogiri::XML::Text:0x3feb919c50c4 \"\\n        hacker-news-undocumented\">]>, #<Nokogiri::XML::Element:0x3feb919b4be8 name=\"a\" attributes=[#<Nokogiri::XML::Attr:0x3feb919c4ed0 name=\"href\" value=\"/localhostdotdev/file-line\">, #<Nokogiri::XML::Attr:0x3feb919c4ebc name=\"itemprop\" value=\"name codeRepository\">] children=[#<Nokogiri::XML::Text:0x3feb919c48a4 \"\\n        file-line\">]>, #<Nokogiri::XML::Element:0x3feb919b49f4 name=\"a\" attributes=[#<Nokogiri::XML::Attr:0x3feb919c46b0 name=\"href\" value=\"/localhostdotdev/delayed_job\">, #<Nokogiri::XML::Attr:0x3feb919c469c name=\"itemprop\" value=\"name codeRepository\">] children=[#<Nokogiri::XML::Text:0x3feb919c4084 \"\\n        delayed_job\">]>, #<Nokogiri::XML::Element:0x3feb919b4800 name=\"a\" attributes=[#<Nokogiri::XML::Attr:0x3feb919c9e6c name=\"href\" value=\"/localhostdotdev/heroku-buildpack-libsodium\">, #<Nokogiri::XML::Attr:0x3feb919c9e58 name=\"itemprop\" value=\"name codeRepository\">] children=[#<Nokogiri::XML::Text:0x3feb919c9840 \"\\n        heroku-buildpack-libsodium\">]>, #<Nokogiri::XML::Element:0x3feb919b460c name=\"a\" attributes=[#<Nokogiri::XML::Attr:0x3feb919c964c name=\"href\" value=\"/localhostdotdev/bundler-stats\">, #<Nokogiri::XML::Attr:0x3feb919c9638 name=\"itemprop\" value=\"name codeRepository\">] children=[#<Nokogiri::XML::Text:0x3feb919c9020 \"\\n        bundler-stats\">]>, #<Nokogiri::XML::Element:0x3feb919b4418 name=\"a\" attributes=[#<Nokogiri::XML::Attr:0x3feb919c8e2c name=\"href\" value=\"/localhostdotdev/API\">, #<Nokogiri::XML::Attr:0x3feb919c8e18 name=\"itemprop\" value=\"name codeRepository\">] children=[#<Nokogiri::XML::Text:0x3feb919c8800 \"\\n        API\">]>, #<Nokogiri::XML::Element:0x3feb919b4224 name=\"a\" attributes=[#<Nokogiri::XML::Attr:0x3feb919c860c name=\"href\" value=\"/localhostdotdev/minitest-rails\">, #<Nokogiri::XML::Attr:0x3feb919c85f8 name=\"itemprop\" value=\"name codeRepository\">] children=[#<Nokogiri::XML::Text:0x3feb919cdfbc \"\\n        minitest-rails\">]>, #<Nokogiri::XML::Element:0x3feb919b4030 name=\"a\" attributes=[#<Nokogiri::XML::Attr:0x3feb919cddc8 name=\"href\" value=\"/localhostdotdev/chromedriver-helper\">, #<Nokogiri::XML::Attr:0x3feb919cddb4 name=\"itemprop\" value=\"name codeRepository\">] children=[#<Nokogiri::XML::Text:0x3feb919cd79c \"\\n        chromedriver-helper\">]>, #<Nokogiri::XML::Element:0x3feb919b1e20 name=\"a\" attributes=[#<Nokogiri::XML::Attr:0x3feb919cd5a8 name=\"href\" value=\"/localhostdotdev/sdoc\">, #<Nokogiri::XML::Attr:0x3feb919cd594 name=\"itemprop\" value=\"name codeRepository\">] children=[#<Nokogiri::XML::Text:0x3feb919ccf7c \"\\n        sdoc\">]>, #<Nokogiri::XML::Element:0x3feb919b1c2c name=\"a\" attributes=[#<Nokogiri::XML::Attr:0x3feb919ccd88 name=\"href\" value=\"/localhostdotdev/rails-docs-server\">, #<Nokogiri::XML::Attr:0x3feb919ccd74 name=\"itemprop\" value=\"name codeRepository\">] children=[#<Nokogiri::XML::Text:0x3feb919cc75c \"\\n        rails-docs-server\">]>, #<Nokogiri::XML::Element:0x3feb919b1a38 name=\"a\" attributes=[#<Nokogiri::XML::Attr:0x3feb919cc568 name=\"href\" value=\"/localhostdotdev/discordrb\">, #<Nokogiri::XML::Attr:0x3feb919cc554 name=\"itemprop\" value=\"name codeRepository\">] children=[#<Nokogiri::XML::Text:0x3feb919d1f18 \"\\n        discordrb\">]>, #<Nokogiri::XML::Element:0x3feb919b1844 name=\"a\" attributes=[#<Nokogiri::XML::Attr:0x3feb919d1d24 name=\"href\" value=\"/localhostdotdev/mitmengine\">, #<Nokogiri::XML::Attr:0x3feb919d1d10 name=\"itemprop\" value=\"name codeRepository\">] children=[#<Nokogiri::XML::Text:0x3feb919d16f8 \"\\n        mitmengine\">]>, #<Nokogiri::XML::Element:0x3feb919b1650 name=\"a\" attributes=[#<Nokogiri::XML::Attr:0x3feb919d1504 name=\"href\" value=\"/localhostdotdev/rumouse\">, #<Nokogiri::XML::Attr:0x3feb919d14f0 name=\"itemprop\" value=\"name codeRepository\">] children=[#<Nokogiri::XML::Text:0x3feb919d0ed8 \"\\n        rumouse\">]>, #<Nokogiri::XML::Element:0x3feb919b145c name=\"a\" attributes=[#<Nokogiri::XML::Attr:0x3feb919d0ce4 name=\"href\" value=\"/localhostdotdev/lobsters-postgresql\">, #<Nokogiri::XML::Attr:0x3feb919d0cd0 name=\"itemprop\" value=\"name codeRepository\">] children=[#<Nokogiri::XML::Text:0x3feb919d06b8 \"\\n        lobsters-postgresql\">]>, #<Nokogiri::XML::Element:0x3feb919b1268 name=\"a\" attributes=[#<Nokogiri::XML::Attr:0x3feb919d04c4 name=\"href\" value=\"/localhostdotdev/jit\">, #<Nokogiri::XML::Attr:0x3feb919d04b0 name=\"itemprop\" value=\"name codeRepository\">] children=[#<Nokogiri::XML::Text:0x3feb92c09e60 \"\\n        jit\">]>, #<Nokogiri::XML::Element:0x3feb919b1074 name=\"a\" attributes=[#<Nokogiri::XML::Attr:0x3feb92c09c6c name=\"href\" value=\"/localhostdotdev/websocket-client-simple\">, #<Nokogiri::XML::Attr:0x3feb92c09c58 name=\"itemprop\" value=\"name codeRepository\">] children=[#<Nokogiri::XML::Text:0x3feb92c09640 \"\\n        websocket-client-simple\">]>]"
      ]
     },
     "execution_count": 3,
     "metadata": {},
     "output_type": "execute_result"
    }
   ],
   "source": [
    "links = page.css('a[itemprop=\"name codeRepository\"]')"
   ]
  },
  {
   "cell_type": "code",
   "execution_count": 4,
   "metadata": {},
   "outputs": [
    {
     "data": {
      "text/html": [
       "<ul><li><a href=\"https://github.com//localhostdotdev/notebooks\">notebooks</a><li><a href=\"https://github.com//localhostdotdev/bug\">bug</a><li><a href=\"https://github.com//localhostdotdev/website\">website</a><li><a href=\"https://github.com//localhostdotdev/ruby-twitter\">ruby-twitter</a><li><a href=\"https://github.com//localhostdotdev/example-.io-game\">example-.io-game</a><li><a href=\"https://github.com//localhostdotdev/localhostdotdev.github.io\">localhostdotdev.github.io</a><li><a href=\"https://github.com//localhostdotdev/real-rails-issues\">real-rails-issues</a><li><a href=\"https://github.com//localhostdotdev/capybara-screenshot\">capybara-screenshot</a><li><a href=\"https://github.com//localhostdotdev/paper_trail\">paper_trail</a><li><a href=\"https://github.com//localhostdotdev/shoulda-context\">shoulda-context</a><li><a href=\"https://github.com//localhostdotdev/delayed_cron_job\">delayed_cron_job</a><li><a href=\"https://github.com//localhostdotdev/rails\">rails</a><li><a href=\"https://github.com//localhostdotdev/plugin-ruby\">plugin-ruby</a><li><a href=\"https://github.com//localhostdotdev/unidecoder\">unidecoder</a><li><a href=\"https://github.com//localhostdotdev/hacker-news-undocumented\">hacker-news-undocumented</a><li><a href=\"https://github.com//localhostdotdev/file-line\">file-line</a><li><a href=\"https://github.com//localhostdotdev/delayed_job\">delayed_job</a><li><a href=\"https://github.com//localhostdotdev/heroku-buildpack-libsodium\">heroku-buildpack-libsodium</a><li><a href=\"https://github.com//localhostdotdev/bundler-stats\">bundler-stats</a><li><a href=\"https://github.com//localhostdotdev/API\">API</a><li><a href=\"https://github.com//localhostdotdev/minitest-rails\">minitest-rails</a><li><a href=\"https://github.com//localhostdotdev/chromedriver-helper\">chromedriver-helper</a><li><a href=\"https://github.com//localhostdotdev/sdoc\">sdoc</a><li><a href=\"https://github.com//localhostdotdev/rails-docs-server\">rails-docs-server</a><li><a href=\"https://github.com//localhostdotdev/discordrb\">discordrb</a><li><a href=\"https://github.com//localhostdotdev/mitmengine\">mitmengine</a><li><a href=\"https://github.com//localhostdotdev/rumouse\">rumouse</a><li><a href=\"https://github.com//localhostdotdev/lobsters-postgresql\">lobsters-postgresql</a><li><a href=\"https://github.com//localhostdotdev/jit\">jit</a><li><a href=\"https://github.com//localhostdotdev/websocket-client-simple\">websocket-client-simple</a></ul>"
      ],
      "text/plain": [
       "\"<ul><li><a href=\\\"https://github.com//localhostdotdev/notebooks\\\">notebooks</a><li><a href=\\\"https://github.com//localhostdotdev/bug\\\">bug</a><li><a href=\\\"https://github.com//localhostdotdev/website\\\">website</a><li><a href=\\\"https://github.com//localhostdotdev/ruby-twitter\\\">ruby-twitter</a><li><a href=\\\"https://github.com//localhostdotdev/example-.io-game\\\">example-.io-game</a><li><a href=\\\"https://github.com//localhostdotdev/localhostdotdev.github.io\\\">localhostdotdev.github.io</a><li><a href=\\\"https://github.com//localhostdotdev/real-rails-issues\\\">real-rails-issues</a><li><a href=\\\"https://github.com//localhostdotdev/capybara-screenshot\\\">capybara-screenshot</a><li><a href=\\\"https://github.com//localhostdotdev/paper_trail\\\">paper_trail</a><li><a href=\\\"https://github.com//localhostdotdev/shoulda-context\\\">shoulda-context</a><li><a href=\\\"https://github.com//localhostdotdev/delayed_cron_job\\\">delayed_cron_job</a><li><a href=\\\"https://github.com//localhostdotdev/rails\\\">rails</a><li><a href=\\\"https://github.com//localhostdotdev/plugin-ruby\\\">plugin-ruby</a><li><a href=\\\"https://github.com//localhostdotdev/unidecoder\\\">unidecoder</a><li><a href=\\\"https://github.com//localhostdotdev/hacker-news-undocumented\\\">hacker-news-undocumented</a><li><a href=\\\"https://github.com//localhostdotdev/file-line\\\">file-line</a><li><a href=\\\"https://github.com//localhostdotdev/delayed_job\\\">delayed_job</a><li><a href=\\\"https://github.com//localhostdotdev/heroku-buildpack-libsodium\\\">heroku-buildpack-libsodium</a><li><a href=\\\"https://github.com//localhostdotdev/bundler-stats\\\">bundler-stats</a><li><a href=\\\"https://github.com//localhostdotdev/API\\\">API</a><li><a href=\\\"https://github.com//localhostdotdev/minitest-rails\\\">minitest-rails</a><li><a href=\\\"https://github.com//localhostdotdev/chromedriver-helper\\\">chromedriver-helper</a><li><a href=\\\"https://github.com//localhostdotdev/sdoc\\\">sdoc</a><li><a href=\\\"https://github.com//localhostdotdev/rails-docs-server\\\">rails-docs-server</a><li><a href=\\\"https://github.com//localhostdotdev/discordrb\\\">discordrb</a><li><a href=\\\"https://github.com//localhostdotdev/mitmengine\\\">mitmengine</a><li><a href=\\\"https://github.com//localhostdotdev/rumouse\\\">rumouse</a><li><a href=\\\"https://github.com//localhostdotdev/lobsters-postgresql\\\">lobsters-postgresql</a><li><a href=\\\"https://github.com//localhostdotdev/jit\\\">jit</a><li><a href=\\\"https://github.com//localhostdotdev/websocket-client-simple\\\">websocket-client-simple</a></ul>\""
      ]
     },
     "execution_count": 4,
     "metadata": {},
     "output_type": "execute_result"
    }
   ],
   "source": [
    "IRuby.html(\n",
    "  \"<ul>\" +\n",
    "  links.map { |l| \"<li><a href=\\\"https://github.com/#{l[:href]}\\\">#{l.text.strip}</a>\" }.join +\n",
    "  \"</ul>\"\n",
    ")"
   ]
  }
 ],
 "metadata": {
  "kernelspec": {
   "display_name": "Ruby 2.6.2",
   "language": "ruby",
   "name": "ruby"
  },
  "language_info": {
   "file_extension": ".rb",
   "mimetype": "application/x-ruby",
   "name": "ruby",
   "version": "2.6.2"
  }
 },
 "nbformat": 4,
 "nbformat_minor": 2
}
